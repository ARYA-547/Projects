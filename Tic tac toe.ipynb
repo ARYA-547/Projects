{
 "cells": [
  {
   "cell_type": "code",
   "execution_count": 1,
   "metadata": {
    "id": "jBDMbFwH-jJt"
   },
   "outputs": [],
   "source": [
    "#RUN THIS CELL\n",
    "import requests\n",
    "from IPython.core.display import HTML"
   ]
  },
  {
   "cell_type": "code",
   "execution_count": 2,
   "metadata": {
    "id": "BbgGLAYO-jJx"
   },
   "outputs": [],
   "source": [
    "# Import necessary libraries\n",
    "import re\n",
    "import random\n",
    "import collections\n",
    "import numpy as np"
   ]
  },
  {
   "cell_type": "markdown",
   "metadata": {
    "id": "w7Xsi-Xz-jJ0"
   },
   "source": [
    "### Your Name"
   ]
  },
  {
   "cell_type": "markdown",
   "metadata": {},
   "source": [
    "ARYA KUMAR BHANJA"
   ]
  },
  {
   "cell_type": "code",
   "execution_count": 6,
   "metadata": {
    "id": "r8dbDDVu-jJ5"
   },
   "outputs": [],
   "source": [
    "#Helper function to display board --> Use `display_board` whenever you want to print board.\n",
    "def display_board(board):\n",
    "    for i in board:\n",
    "        print(i)"
   ]
  },
  {
   "cell_type": "code",
   "execution_count": 10,
   "metadata": {
    "id": "zxC806Ai-jJ6"
   },
   "outputs": [
    {
     "name": "stdout",
     "output_type": "stream",
     "text": [
      "[0, 0, 0]\n",
      "[0, 0, 0]\n",
      "[0, 0, 0]\n"
     ]
    }
   ],
   "source": [
    "### edTest(test_1) ###\n",
    "## DO NOT REMOVE ABOVE LINE ##\n",
    "\n",
    "#------------START OF FUNCTION DEFINITION--------------------------#\n",
    "\n",
    "# Define the create_board() function\n",
    "def create_board():\n",
    "    #Initialize a list of list containing 0s i.e\n",
    "    # [,\n",
    "    #   [0,0,0],\n",
    "    #   [0,0,0],\n",
    "    #   [0,0,0]\n",
    "    # ]\n",
    "    board = [\n",
    "             [0,0,0],\n",
    "             [0,0,0],\n",
    "             [0,0,0]\n",
    "            ]\n",
    "    #Return the board initialized\n",
    "    return board\n",
    "\n",
    "#--------------END OF FUNCTION DEFINITION -------------------------#\n",
    "\n",
    "\n",
    "# Store your new board in variable and use this variable for the next couple of questions\n",
    "board = create_board()\n",
    "\n",
    "# Display your board - use `display_board()` helper function\n",
    "display_board(board)"
   ]
  },
  {
   "cell_type": "code",
   "execution_count": 14,
   "metadata": {
    "id": "eIx7AkjD-jJ8"
   },
   "outputs": [
    {
     "name": "stdout",
     "output_type": "stream",
     "text": [
      "[1, 0, 0]\n",
      "[0, 0, 0]\n",
      "[0, 0, 0]\n"
     ]
    }
   ],
   "source": [
    "### edTest(test_2) ###\n",
    "## DO NOT REMOVE ABOVE LINE ##\n",
    "\n",
    "#------------START OF FUNCTION DEFINITION--------------------------#\n",
    "\n",
    "# Define the `place(board, player, position)`\n",
    "def place(board, player,  position):\n",
    "\n",
    "    #Check if board position is empty by checking if board[row index][column index] == 0.\n",
    "    #Remember `position[0]` gives you the row index and `position[1]` gives the column index\n",
    "    row_index=position[0]\n",
    "    column_index=position[1]\n",
    "    if board[row_index][column_index]==0:\n",
    "        #if yes, store number of the player in that board position\n",
    "        board[row_index][column_index]=player\n",
    "    else:\n",
    "        #else print \"This place has been taken.\"\n",
    "        print(\"This place has been taken.\")\n",
    "\n",
    "#--------------END OF FUNCTION DEFINITION -------------------------#\n",
    "\n",
    "# Call function `place(board, player, position)\n",
    "player=1\n",
    "position=(0,0)\n",
    "place(board, player,  position)\n",
    "\n",
    "# Display your marked board\n",
    "display_board(board)"
   ]
  },
  {
   "cell_type": "code",
   "execution_count": 18,
   "metadata": {
    "id": "0pm8p8k9-jJ9"
   },
   "outputs": [],
   "source": [
    "### edTest(test_3) ###\n",
    "## DO NOT REMOVE ABOVE LINE ##\n",
    "\n",
    "#------------START OF FUNCTION DEFINITION--------------------------#\n",
    "\n",
    "# Define the `possibilities(board)` function\n",
    "# Function to return possibilities where Player can place markers\n",
    "# which are basically all those positions that are not occupied.\n",
    "def possibilities(board):\n",
    "\n",
    "    #Intialize an empty list named `locations`\n",
    "    locations=[ ]\n",
    "\n",
    "    #Loop through the rows of the board (Hint: Loop through the range of the length of the board)\n",
    "    for row in range(len(board)):\n",
    "\n",
    "        #Fetch the row from the board by using 'row' index (Hint: This is the nested list inside)\n",
    "        row_instance=board[row]\n",
    "\n",
    "        #Loop through columns of the row_instance (Hint: Loop through the range of the length of the row_instance)\n",
    "        for column in range (len(row_instance)):\n",
    "\n",
    "            #if the board position indexed by 'row' and 'col' contains '0'\n",
    "            if board[row][column]==0:\n",
    "\n",
    "                #Append this position index i.e row and col, as a tuple to locations list\n",
    "                locations.append((row,column))\n",
    "\n",
    "    #Return the locations\n",
    "    return locations\n",
    "\n",
    "#--------------END OF FUNCTION DEFINITION -------------------------#\n",
    "\n",
    "# Call the function and store results\n",
    "p = possibilities(board)"
   ]
  },
  {
   "cell_type": "code",
   "execution_count": 19,
   "metadata": {
    "id": "SHnIIhet-jJ-"
   },
   "outputs": [
    {
     "name": "stdout",
     "output_type": "stream",
     "text": [
      "[1, 0, 1]\n",
      "[2, 2, 0]\n",
      "[1, 2, 0]\n"
     ]
    }
   ],
   "source": [
    "### edTest(test_4) ###\n",
    "## DO NOT REMOVE ABOVE LINE ##\n",
    "\n",
    "#setting random seed to 22 - DO NOT CHANGE THIS.\n",
    "random.seed(22)\n",
    "\n",
    "#------------START OF FUNCTION DEFINITION--------------------------#\n",
    "\n",
    "# Define the `random_place(board, player)` function\n",
    "# Create a function to randomly place markers in available positions\n",
    "def random_place(board, player):\n",
    "\n",
    "    #get the locations of the available positions (Hint: Use previously defined `possibilities` function)\n",
    "    locs=possibilities(board)\n",
    "\n",
    "    #Using random.choice select one position from `locs`\n",
    "    selected_locs=random.choice( locs)\n",
    "\n",
    "    #place player marker on the board in the location chosen (Hint: Use the `place` function defined)\n",
    "    place(board, player, selected_locs )\n",
    "\n",
    "#--------------END OF FUNCTION DEFINITION -------------------------#\n",
    "\n",
    "\n",
    "#Create a new board\n",
    "board = [[0,0,0],[0,0,0],[0,0,0]]\n",
    "\n",
    "#Loop through the no. of rows and randomly place the markers\n",
    "# in available positions for both player 1 and player 2\n",
    "for i in range(3):\n",
    "    #place random markers for player 1\n",
    "    random_place(board, 1)\n",
    "    #place random markers for player 2\n",
    "    random_place(board, 2)\n",
    "\n",
    "\n",
    "#Display the board\n",
    "display_board(board)"
   ]
  },
  {
   "cell_type": "code",
   "execution_count": 21,
   "metadata": {
    "id": "zkyHPR5Z-jJ-"
   },
   "outputs": [],
   "source": [
    "### edTest(test_5) ###\n",
    "## DO NOT REMOVE ABOVE LINE ##\n",
    "\n",
    "#------------START OF FUNCTION DEFINITION--------------------------#\n",
    "\n",
    "# Define the `row_win(board, player)` function\n",
    "# Eg:\n",
    "# [2,1,2]\n",
    "# [2,2,2]\n",
    "# [1,2,1]\n",
    "# Since there are 3 '2s' in row no. 2, player 2 has a row wise win.\n",
    "\n",
    "def row_win(board,player):\n",
    "\n",
    "    #Loop through the individual rows in the board\n",
    "    for row in board:\n",
    "\n",
    "        #if the count of player number in the row is 3\n",
    "        if row.count(player) == 3:\n",
    "\n",
    "            #return True (because the player has won.)\n",
    "            return True\n",
    "\n",
    "    #If no one has complete row win, return False\n",
    "    return False\n",
    "\n",
    "#--------------END OF FUNCTION DEFINITION -------------------------#\n",
    "\n",
    "# Call your function for player 1 and store the result\n",
    "is_winner = row_win(board, 1)"
   ]
  },
  {
   "cell_type": "code",
   "execution_count": 24,
   "metadata": {
    "id": "qWOBBK_L-jJ_"
   },
   "outputs": [],
   "source": [
    "### edTest(test_6) ###\n",
    "## DO NOT REMOVE ABOVE LINE ##\n",
    "\n",
    "#------------START OF FUNCTION DEFINITION--------------------------#\n",
    "\n",
    "# Define the `col_win(board, player)` function\n",
    "# Eg:\n",
    "# [2,1,2]\n",
    "# [1,1,2]\n",
    "# [2,1,1]\n",
    "# Since there are 3 '1s' in the column 2, Player 1 has a column wise win.\n",
    "\n",
    "def col_win(board, player):\n",
    "\n",
    "    #Go through col_index of board by looping through range the no. of columns present\n",
    "    for col_index in range(len(board[0])):\n",
    "\n",
    "        #Intialize empty temp list to store col values\n",
    "        temp = []\n",
    "\n",
    "        #Loop through row in board\n",
    "        for row in board:\n",
    "\n",
    "            #Append the col wise values to temp list (Hint: obtain col_index'ed value from row)\n",
    "            temp.append(row[col_index])\n",
    "\n",
    "        #Check if the temp list contains only player markers i.e 3\n",
    "        if temp.count(player) == 3:\n",
    "\n",
    "            #return True since this means the player has won\n",
    "            return True\n",
    "\n",
    "    #return false if no col-wise win found\n",
    "    return False\n",
    "\n",
    "#--------------END OF FUNCTION DEFINITION -------------------------#\n",
    "\n",
    "\n",
    "# Call your function for player 1 and store the result\n",
    "is_winner = col_win(board, 1)"
   ]
  },
  {
   "cell_type": "code",
   "execution_count": 25,
   "metadata": {
    "id": "lTDWox5n-jKE"
   },
   "outputs": [],
   "source": [
    "### edTest(test_7) ###\n",
    "## DO NOT REMOVE ABOVE LINE ##\n",
    "\n",
    "#------------START OF FUNCTION DEFINITION--------------------------#\n",
    "\n",
    "# Define the `diag_win(board, player)` function\n",
    "# Eg:\n",
    "# [1,2,2]\n",
    "# [2,1,2]\n",
    "# [2,1,1]\n",
    "# Since there are 3 '1s' across the diagonal, player 1 has a diagonal wise win.\n",
    "\n",
    "def diag_win(board, player):\n",
    "\n",
    "    #Checking elements in index position (0,0), (1,1), (2,2) i.e the diagonal left to right\n",
    "\n",
    "    #Initialize index value to 0\n",
    "    index = 0\n",
    "\n",
    "    #Create an empty temp list\n",
    "    temp = []\n",
    "\n",
    "    #Loop through the row in the board\n",
    "    for row in board:\n",
    "\n",
    "        #Append the diagonal values to the temp list (Hint: get the index'ed value from `row`)\n",
    "        temp.append(row[index])\n",
    "\n",
    "        #Increase index by 1\n",
    "        index=index+1\n",
    "\n",
    "    #Check if all the values are of one player values i.e is 3\n",
    "    if temp.count(player) == 3:\n",
    "        #Return True since this means there is a col wise win\n",
    "        return True\n",
    "\n",
    "    #Follow similar steps above except now, we are checking the diagonal from right to left\n",
    "    #Checking elements in index position (0,2), (1,1), (2,0)\n",
    "\n",
    "    #Initialize index value to the length of board minus 1\n",
    "    index = len(board)-1\n",
    "\n",
    "    #Initialize empty temp list\n",
    "    temp = []\n",
    "\n",
    "    #Loop through the row in the board\n",
    "    for row in board:\n",
    "\n",
    "        #Append the diagonal values to the temp list (Hint: get the index'ed value from `row`)\n",
    "        temp.append(row[index])\n",
    "\n",
    "        #Decrease the index value by 1\n",
    "        index=index-1\n",
    "\n",
    "    #Check if all the values are of one player values\n",
    "    if temp.count(player) == 3:\n",
    "        #Return True since this means there is a col wise win\n",
    "        return True\n",
    "\n",
    "    #else return False if there is no col-wise win\n",
    "    return False\n",
    "\n",
    "#--------------END OF FUNCTION DEFINITION -------------------------#\n",
    "\n",
    "\n",
    "# Call your function to see if anyone has won\n",
    "is_winner = diag_win(board, 2)"
   ]
  },
  {
   "cell_type": "code",
   "execution_count": 27,
   "metadata": {
    "id": "UdEiu03U-jKG"
   },
   "outputs": [],
   "source": [
    "### edTest(test_8) ###\n",
    "## DO NOT REMOVE ABOVE LINE ##\n",
    "\n",
    "#------------START OF FUNCTION DEFINITION--------------------------#\n",
    "\n",
    "# Define the `evaluate(board)` function\n",
    "def evaluate(board):\n",
    "\n",
    "    #Intialize winner variable with 0\n",
    "    winner = 0\n",
    "\n",
    "    #Go through each player markers i.e [1,2]\n",
    "    for player in [1, 2]:\n",
    "\n",
    "        #Check for all types of wins i.e row_win or col_win or diag_win\n",
    "        if row_win(board, player) or col_win(board, player) or diag_win(board, player) :\n",
    "\n",
    "            #if player has won in any of them, store them as winner\n",
    "            winner = player\n",
    "\n",
    "    #In the case there is no winner, we want to make sure of that all the positions\n",
    "    #has been played. If all positions has been played, and there is still no win,\n",
    "    #we will return -1 to denote a tie or draw.\n",
    "\n",
    "    #Check if there are any positions in the board that hasn't been played\n",
    "    #i.e are there any 0's in the board\n",
    "    #and check if winner is 0\n",
    "    if [y for x in board for y in x].count(0) == 0 and winner == 0:\n",
    "\n",
    "        #Return winner as -1 since both did not win\n",
    "        winner = -1\n",
    "\n",
    "    #Return winner\n",
    "    return winner\n",
    "\n",
    "#--------------END OF FUNCTION DEFINITION -------------------------#\n",
    "\n",
    "# Call your function and check if anyone won\n",
    "is_winner = evaluate(board)"
   ]
  },
  {
   "cell_type": "code",
   "execution_count": 28,
   "metadata": {
    "id": "7IXh8Xfp-jKH"
   },
   "outputs": [
    {
     "name": "stdout",
     "output_type": "stream",
     "text": [
      "No. of wins for Player 1 : 560\n",
      "No. of wins for Player 2 : 296\n",
      "No. of no wins : 144\n"
     ]
    }
   ],
   "source": [
    "### edTest(test_9) ###\n",
    "## DO NOT REMOVE ABOVE LINE ##\n",
    "\n",
    "#setting random seed to 22 - DO NOT CHANGE THIS.\n",
    "random.seed(22)\n",
    "\n",
    "#------------START OF FUNCTION DEFINITION--------------------------#\n",
    "\n",
    "# Define your function `play_game()`\n",
    "def play_game():\n",
    "\n",
    "    #Create a new board\n",
    "    board = create_board()\n",
    "\n",
    "    #Choose your first player marker i.e 1\n",
    "    player = 1\n",
    "\n",
    "    #Initialize result as 0\n",
    "    result = 0\n",
    "\n",
    "    #While result is still 0 i.e no win has happened\n",
    "    while (result==0):\n",
    "\n",
    "        #Randomly place the marker on the board calling the `random_place` function\n",
    "        random_place(board, player)\n",
    "\n",
    "        #Now it is time for the other player to place marker\n",
    "        #If player is not 2\n",
    "        if player%2 !=0:\n",
    "            #make the new player 2 (this means the previous player was player 1)\n",
    "            player = 2\n",
    "        else:\n",
    "            #else make the new player 1 (this means the previous player was player 2)\n",
    "            player =1\n",
    "\n",
    "        #evalute the board to check for winners by calling the `evalute` function\n",
    "        result = evaluate(board)\n",
    "\n",
    "    #return the result\n",
    "    return result\n",
    "\n",
    "#--------------END OF FUNCTION DEFINITION -------------------------#\n",
    "\n",
    "\n",
    "# Play the game 1000 times and store the results by calling `play_game`\n",
    "results = [play_game()  for _ in range(1000)]\n",
    "\n",
    "# Store the no. of wins for Player 1 (Hint: You can use the .count function)\n",
    "player_1_wins = results.count(1)\n",
    "\n",
    "#Store the no. of wins for Player 2 (Hint: You can use the .count function)\n",
    "player_2_wins = results.count(2)\n",
    "\n",
    "#store the no. of no wins (Hint: You can use the .count function)\n",
    "no_wins = results.count(-1)\n",
    "\n",
    "\n",
    "#How many wins for Player 1?\n",
    "print(f'No. of wins for Player 1 : {player_1_wins}')\n",
    "\n",
    "#How many wins for Player 2?\n",
    "print(f'No. of wins for Player 2 : {player_2_wins}')\n",
    "\n",
    "#How many no wins for both?\n",
    "print(f'No. of no wins : {no_wins}')\n"
   ]
  },
  {
   "cell_type": "code",
   "execution_count": 30,
   "metadata": {
    "id": "3W8v3ENa-jKK"
   },
   "outputs": [
    {
     "name": "stdout",
     "output_type": "stream",
     "text": [
      "No. of wins for Player 1 : 690\n",
      "No. of wins for Player 2 : 208\n",
      "No. of no wins : 102\n"
     ]
    }
   ],
   "source": [
    "### edTest(test_10) ###\n",
    "## DO NOT REMOVE ABOVE LINE ##\n",
    "\n",
    "#setting random seed to 22 - DO NOT CHANGE THIS.\n",
    "random.seed(22)\n",
    "\n",
    "#------------START OF FUNCTION DEFINITION--------------------------#\n",
    "\n",
    "# Define your function `play_strategic_game()`\n",
    "def play_strategic_game():\n",
    "\n",
    "    #Create a new board\n",
    "    board=create_board()\n",
    "\n",
    "    #Player 1 strategy is to place the first marker always in the middle\n",
    "    #Place 1 in middle of the board\n",
    "    board[1][1]=1\n",
    "\n",
    "    #Store 2 as player since player 1 turn above is done\n",
    "    player = 2\n",
    "\n",
    "    #Initialize the result as 0\n",
    "    result=0\n",
    "\n",
    "    #While result is still 0 i.e no win has happened\n",
    "    while result==0:\n",
    "\n",
    "        #Randomly place the marker on the board calling the `random_place` function\n",
    "        random_place(board, player)\n",
    "\n",
    "        #Now it is time for the other player to place marker\n",
    "        #If player is not 2\n",
    "        if player % 2 != 0:\n",
    "            #make the new player 2 (this means the previous player was player 1)\n",
    "            player=2\n",
    "        else:\n",
    "            #else make the new player 1 (this means the previous player was player 2)\n",
    "            player=1\n",
    "\n",
    "        #evalute the board to check for winners by calling the `evalute` function\n",
    "        result=evaluate(board)\n",
    "\n",
    "    #return result\n",
    "    return result\n",
    "\n",
    "#--------------END OF FUNCTION DEFINITION -------------------------#\n",
    "\n",
    "\n",
    "# Play the game 1000 times and store the results by calling `play_strategic_game`\n",
    "results = [play_strategic_game()  for _ in range(1000)]\n",
    "\n",
    "# Store the no. of wins for Player 1 (Hint: You can use the .count function)\n",
    "player_1_wins = results.count(1)\n",
    "\n",
    "#Store the no. of wins for Player 2 (Hint: You can use the .count function)\n",
    "player_2_wins = results.count(2)\n",
    "\n",
    "#store the no. of no wins (Hint: You can use the .count function)\n",
    "no_wins = results.count(-1)\n",
    "\n",
    "#How many wins for Player 1?\n",
    "print(f'No. of wins for Player 1 : {player_1_wins}')\n",
    "\n",
    "#How many wins for Player 2?\n",
    "print(f'No. of wins for Player 2 : {player_2_wins}')\n",
    "\n",
    "#How many no wins for both?\n",
    "print(f'No. of no wins : {no_wins}')"
   ]
  },
  {
   "cell_type": "markdown",
   "metadata": {
    "id": "qIJwB36neBMJ"
   },
   "source": [
    "## ⏸ Pause & Think\n",
    "\n",
    "Take a few moments to summarize and discuss the steps taken to solve the given problem.\n",
    "\n"
   ]
  },
  {
   "cell_type": "markdown",
   "metadata": {
    "id": "nUSjPWzteb4h"
   },
   "source": [
    "Your answer here."
   ]
  },
  {
   "cell_type": "code",
   "execution_count": null,
   "metadata": {},
   "outputs": [],
   "source": []
  }
 ],
 "metadata": {
  "colab": {
   "provenance": [
    {
     "file_id": "1O6Ap8jg4pWLBwAAnSkNpb_esvOt3t55x",
     "timestamp": 1689850630028
    }
   ]
  },
  "kernelspec": {
   "display_name": "Python 3 (ipykernel)",
   "language": "python",
   "name": "python3"
  },
  "language_info": {
   "codemirror_mode": {
    "name": "ipython",
    "version": 3
   },
   "file_extension": ".py",
   "mimetype": "text/x-python",
   "name": "python",
   "nbconvert_exporter": "python",
   "pygments_lexer": "ipython3",
   "version": "3.9.7"
  }
 },
 "nbformat": 4,
 "nbformat_minor": 4
}
